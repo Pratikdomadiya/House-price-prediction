{
  "nbformat": 4,
  "nbformat_minor": 0,
  "metadata": {
    "colab": {
      "provenance": [],
      "collapsed_sections": []
    },
    "kernelspec": {
      "name": "python3",
      "display_name": "Python 3"
    },
    "language_info": {
      "name": "python"
    }
  },
  "cells": [
    {
      "cell_type": "markdown",
      "metadata": {
        "id": "Gb1mp7xBOOvF"
      },
      "source": [
        "# **Data processing**"
      ]
    },
    {
      "cell_type": "markdown",
      "metadata": {
        "id": "v6X1CoqJXL0C"
      },
      "source": [
        "### We took the data from zolo website. Checked the details of all the columns.\n",
        "### Now a few of the blocks were required to be changed, this comes under cleaning of data. Hence, we cleaned the noise in the data \n",
        "### We checked the unique values of all the columns and then made changes that were required.\n",
        "### Plotted the scatter plots between different columns which shows the dependencies of the variables on each other. Also we can get to know the residuals or any outliers.  \n",
        "### Also, Plotted histogram, boxplot and subplots. Where histogram shows the rise and fall of the value. boxplots tells min and max values. \n",
        "### Also did we plotted the heat map that shows the co relation between the variables. \n",
        "\n",
        "###We checked all the available columns in the data and then checked for unique values for each and made any changes required for instance in walk score there was a ‘-‘  which was removed latersince its a noisy data. From scatterplot we conclude that with the greater number of bathrooms there are greater number of bedrooms as well. Also did we found that there are heavy number of walk score in larger size(sq feet). But this not true in case of rooms and stories that is if room number increases then stories are not increasing also there are not many homes with a lot of rooms. Also we found that the price of the house is highly dependent on the number of bathrooms. After that we performed linear regression using sklearn and found the co efficient of determinations.\n"
      ]
    },
    {
      "cell_type": "code",
      "metadata": {
        "id": "DaMLH2kMfQax"
      },
      "source": [
        "#import required libaries\n",
        "import pandas as pd\n",
        "import numpy as np\n",
        "import seaborn as sns \n",
        "import matplotlib.pyplot as plt "
      ],
      "execution_count": null,
      "outputs": []
    },
    {
      "cell_type": "code",
      "metadata": {
        "id": "z-wtk5xAfYpl",
        "colab": {
          "base_uri": "https://localhost:8080/",
          "height": 590
        },
        "outputId": "b5275bd0-427e-4d1c-8269-df50b20e19eb"
      },
      "source": [
        "#picking the file to read from the drive \n",
        "drive_url = 'https://docs.google.com/spreadsheets/d/1IcfryaWf6HHAwQ_elcq5L1BCULhIINgR/edit#gid=1524578348' #Read the Excel Sheet, which contains 4000 House properties scraped from zolo.ca.\n",
        "new_url = 'https://drive.google.com/uc?export=download&id=' + drive_url.split('/')[-2] #Save into temporary location\n",
        "df = pd.read_excel(new_url)\n",
        "df.head()"
      ],
      "execution_count": null,
      "outputs": [
        {
          "output_type": "execute_result",
          "data": {
            "text/html": [
              "<div>\n",
              "<style scoped>\n",
              "    .dataframe tbody tr th:only-of-type {\n",
              "        vertical-align: middle;\n",
              "    }\n",
              "\n",
              "    .dataframe tbody tr th {\n",
              "        vertical-align: top;\n",
              "    }\n",
              "\n",
              "    .dataframe thead th {\n",
              "        text-align: right;\n",
              "    }\n",
              "</style>\n",
              "<table border=\"1\" class=\"dataframe\">\n",
              "  <thead>\n",
              "    <tr style=\"text-align: right;\">\n",
              "      <th></th>\n",
              "      <th>Type</th>\n",
              "      <th>Walk Score</th>\n",
              "      <th>Age</th>\n",
              "      <th>Listed By</th>\n",
              "      <th>Size (sq ft)</th>\n",
              "      <th>Bedrooms</th>\n",
              "      <th>Bathrooms</th>\n",
              "      <th>Kitchens</th>\n",
              "      <th>Rooms</th>\n",
              "      <th>Area</th>\n",
              "      <th>Den/Family Room</th>\n",
              "      <th>Patio Terrace</th>\n",
              "      <th>Ensuite Laundry</th>\n",
              "      <th>Air Conditioning</th>\n",
              "      <th>Fireplace</th>\n",
              "      <th>Stories</th>\n",
              "      <th>Parking Total</th>\n",
              "      <th>Maintenance</th>\n",
              "      <th>Taxes</th>\n",
              "      <th>Community</th>\n",
              "      <th>Basement</th>\n",
              "      <th>house_price</th>\n",
              "    </tr>\n",
              "  </thead>\n",
              "  <tbody>\n",
              "    <tr>\n",
              "      <th>0</th>\n",
              "      <td>Condo Townhouse</td>\n",
              "      <td>83</td>\n",
              "      <td>No Data</td>\n",
              "      <td>Royal Lepage Supreme Realty, Brokerage</td>\n",
              "      <td>1400-1599</td>\n",
              "      <td>3</td>\n",
              "      <td>3</td>\n",
              "      <td>1</td>\n",
              "      <td>8</td>\n",
              "      <td>Toronto</td>\n",
              "      <td>N</td>\n",
              "      <td>Terr</td>\n",
              "      <td>Y</td>\n",
              "      <td>Central Air</td>\n",
              "      <td>N</td>\n",
              "      <td>2</td>\n",
              "      <td>1.0</td>\n",
              "      <td>446.40</td>\n",
              "      <td>3250.59</td>\n",
              "      <td>Dovercourt-Wallace Emerson-Junction</td>\n",
              "      <td>None</td>\n",
              "      <td>999900</td>\n",
              "    </tr>\n",
              "    <tr>\n",
              "      <th>1</th>\n",
              "      <td>Condo Apt</td>\n",
              "      <td>37</td>\n",
              "      <td>No Data</td>\n",
              "      <td>Royal Lepage Terrequity Realty, Brokerage</td>\n",
              "      <td>900-999</td>\n",
              "      <td>2</td>\n",
              "      <td>1</td>\n",
              "      <td>1</td>\n",
              "      <td>6</td>\n",
              "      <td>Toronto</td>\n",
              "      <td>N</td>\n",
              "      <td>Open</td>\n",
              "      <td>Y</td>\n",
              "      <td>Central Air</td>\n",
              "      <td>N</td>\n",
              "      <td>15</td>\n",
              "      <td>1.0</td>\n",
              "      <td>697.42</td>\n",
              "      <td>1255.6</td>\n",
              "      <td>Flemingdon Park</td>\n",
              "      <td>None</td>\n",
              "      <td>525000</td>\n",
              "    </tr>\n",
              "    <tr>\n",
              "      <th>2</th>\n",
              "      <td>Condo Apt</td>\n",
              "      <td>97</td>\n",
              "      <td>No Data</td>\n",
              "      <td>Homelife Frontier Realty Inc., Brokerage</td>\n",
              "      <td>600-699</td>\n",
              "      <td>1</td>\n",
              "      <td>1</td>\n",
              "      <td>1</td>\n",
              "      <td>5</td>\n",
              "      <td>Toronto</td>\n",
              "      <td>N</td>\n",
              "      <td>Open</td>\n",
              "      <td>Y</td>\n",
              "      <td>Central Air</td>\n",
              "      <td>N</td>\n",
              "      <td>19</td>\n",
              "      <td>0.0</td>\n",
              "      <td>435.14</td>\n",
              "      <td>2480.71</td>\n",
              "      <td>Church-Yonge Corridor</td>\n",
              "      <td>None</td>\n",
              "      <td>499999</td>\n",
              "    </tr>\n",
              "    <tr>\n",
              "      <th>3</th>\n",
              "      <td>Condo Townhouse</td>\n",
              "      <td>30</td>\n",
              "      <td>No Data</td>\n",
              "      <td>Re/max Millennium Real Estate, Brokerage</td>\n",
              "      <td>1000-1199</td>\n",
              "      <td>3</td>\n",
              "      <td>2</td>\n",
              "      <td>1</td>\n",
              "      <td>5</td>\n",
              "      <td>Toronto</td>\n",
              "      <td>N</td>\n",
              "      <td>Terr</td>\n",
              "      <td>Y</td>\n",
              "      <td>None</td>\n",
              "      <td>Y</td>\n",
              "      <td>1</td>\n",
              "      <td>2.0</td>\n",
              "      <td>649.93</td>\n",
              "      <td>1438.29</td>\n",
              "      <td>Elms-Old Rexdale</td>\n",
              "      <td>Crawl Space</td>\n",
              "      <td>529800</td>\n",
              "    </tr>\n",
              "    <tr>\n",
              "      <th>4</th>\n",
              "      <td>Detached</td>\n",
              "      <td>37</td>\n",
              "      <td>No Data</td>\n",
              "      <td>First Class Realty Inc., Brokerage</td>\n",
              "      <td>3500-5000</td>\n",
              "      <td>4</td>\n",
              "      <td>6</td>\n",
              "      <td>1</td>\n",
              "      <td>10</td>\n",
              "      <td>Toronto</td>\n",
              "      <td>Y</td>\n",
              "      <td>NO</td>\n",
              "      <td>N</td>\n",
              "      <td>Central Air</td>\n",
              "      <td>Y</td>\n",
              "      <td>0</td>\n",
              "      <td>4.0</td>\n",
              "      <td>0.00</td>\n",
              "      <td>15617</td>\n",
              "      <td>St. Andrew-Windfields</td>\n",
              "      <td>Walk-Up</td>\n",
              "      <td>4280000</td>\n",
              "    </tr>\n",
              "  </tbody>\n",
              "</table>\n",
              "</div>"
            ],
            "text/plain": [
              "              Type Walk Score  ...     Basement house_price\n",
              "0  Condo Townhouse         83  ...         None      999900\n",
              "1        Condo Apt         37  ...         None      525000\n",
              "2        Condo Apt         97  ...         None      499999\n",
              "3  Condo Townhouse         30  ...  Crawl Space      529800\n",
              "4         Detached         37  ...      Walk-Up     4280000\n",
              "\n",
              "[5 rows x 22 columns]"
            ]
          },
          "metadata": {},
          "execution_count": 2
        }
      ]
    },
    {
      "cell_type": "code",
      "metadata": {
        "colab": {
          "base_uri": "https://localhost:8080/"
        },
        "id": "pwEZY9_xg3ql",
        "outputId": "f80e1a6d-7e65-496d-f701-5dfe9c5a6b54"
      },
      "source": [
        "#to check how many null values are there \n",
        "df.isnull().sum()\n",
        "# size = 861 null values"
      ],
      "execution_count": null,
      "outputs": [
        {
          "output_type": "execute_result",
          "data": {
            "text/plain": [
              "Type                  0\n",
              "Walk Score            0\n",
              "Age                  11\n",
              "Listed By             0\n",
              "Size (sq ft)        861\n",
              "Bedrooms              0\n",
              "Bathrooms             0\n",
              "Kitchens              0\n",
              "Rooms                 0\n",
              "Area                 12\n",
              "Den/Family Room       0\n",
              "Patio Terrace         0\n",
              "Ensuite Laundry       0\n",
              "Air Conditioning      0\n",
              "Fireplace             0\n",
              "Stories               1\n",
              "Parking Total         0\n",
              "Maintenance           0\n",
              "Taxes                 0\n",
              "Community            23\n",
              "Basement              0\n",
              "house_price           0\n",
              "dtype: int64"
            ]
          },
          "metadata": {},
          "execution_count": 3
        }
      ]
    },
    {
      "cell_type": "code",
      "metadata": {
        "colab": {
          "base_uri": "https://localhost:8080/"
        },
        "id": "zILpyFv4g-Ss",
        "outputId": "fe332865-7543-4f70-ad0d-6ff85fb14f35"
      },
      "source": [
        "#getting the information of all the columns \n",
        "df.info()"
      ],
      "execution_count": null,
      "outputs": [
        {
          "output_type": "stream",
          "name": "stdout",
          "text": [
            "<class 'pandas.core.frame.DataFrame'>\n",
            "RangeIndex: 3917 entries, 0 to 3916\n",
            "Data columns (total 22 columns):\n",
            " #   Column            Non-Null Count  Dtype  \n",
            "---  ------            --------------  -----  \n",
            " 0   Type              3917 non-null   object \n",
            " 1   Walk Score        3917 non-null   object \n",
            " 2   Age               3906 non-null   object \n",
            " 3   Listed By         3917 non-null   object \n",
            " 4   Size (sq ft)      3056 non-null   object \n",
            " 5   Bedrooms          3917 non-null   int64  \n",
            " 6   Bathrooms         3917 non-null   int64  \n",
            " 7   Kitchens          3917 non-null   int64  \n",
            " 8   Rooms             3917 non-null   int64  \n",
            " 9   Area              3905 non-null   object \n",
            " 10  Den/Family Room   3917 non-null   object \n",
            " 11  Patio Terrace     3917 non-null   object \n",
            " 12  Ensuite Laundry   3917 non-null   object \n",
            " 13  Air Conditioning  3917 non-null   object \n",
            " 14  Fireplace         3917 non-null   object \n",
            " 15  Stories           3916 non-null   object \n",
            " 16  Parking Total     3917 non-null   float64\n",
            " 17  Maintenance       3917 non-null   float64\n",
            " 18  Taxes             3917 non-null   object \n",
            " 19  Community         3894 non-null   object \n",
            " 20  Basement          3917 non-null   object \n",
            " 21  house_price       3917 non-null   int64  \n",
            "dtypes: float64(2), int64(5), object(15)\n",
            "memory usage: 673.4+ KB\n"
          ]
        }
      ]
    },
    {
      "cell_type": "code",
      "metadata": {
        "colab": {
          "base_uri": "https://localhost:8080/"
        },
        "id": "4Orh1PyXjCm9",
        "outputId": "f74ba573-9c23-44c0-ab94-f605dc6abc93"
      },
      "source": [
        "# checking the unique values available in 'type' column\n",
        "df['Type'].nunique(),df['Type'].unique()\n",
        "\n",
        "# Some unique values are merged as they are having the same meaning\n",
        "# \"condoxxxxxx\" -> condo\n",
        "# co-op apt, Apartments, Co-Ownership Apt -> Apartments\n",
        "# twnhouse -> town house\n",
        "# triplex, multiplex, duplex, Fourplex -> multiplex\n",
        "# Single Family,House/Single Family-> Single Family\n",
        "# Link, Parking Space, Locker, Parking, Land, Vacant Land -> ohters\n",
        "# retail, Commercial/Retail -> retail"
      ],
      "execution_count": null,
      "outputs": [
        {
          "output_type": "execute_result",
          "data": {
            "text/plain": [
              "(33, array(['Condo Townhouse', 'Condo Apt', 'Detached', 'Att/Row/Twnhouse',\n",
              "        'Semi-Detached', 'Comm Element Condo', 'Co-Op Apt', 'Investment',\n",
              "        'Det Condo', 'Vacant Land', 'Apartments', 'Condominium', 'Triplex',\n",
              "        'Link', 'Multiplex', 'Condo/Apt Unit', 'Other', 'Co-Ownership Apt',\n",
              "        'Duplex', 'Parking Space', 'Locker', 'Single Family',\n",
              "        'Commercial/Retail', 'Industrial', 'Land', 'Office',\n",
              "        'Row / Townhouse', 'Leasehold Condo', 'Fourplex',\n",
              "        'House/Single Family', 'Retail', 'Store W/Apt/Office', 'Parking'],\n",
              "       dtype=object))"
            ]
          },
          "metadata": {},
          "execution_count": 5
        }
      ]
    },
    {
      "cell_type": "code",
      "metadata": {
        "id": "g9s8at8VgUPM"
      },
      "source": [
        "# processing the 'Type' feature\n",
        "\n",
        "def process_type(house_type):\n",
        "  if 'condo' in house_type.lower():\n",
        "    return 'condo'\n",
        "  if 'apt' in house_type.lower():\n",
        "    return 'Apartments'\n",
        "  if house_type.lower() in ['duplex','triplex','fourplex','multiplex']:\n",
        "    return 'multiplex'\n",
        "  if house_type in ['Single Family','House/Single Family']:\n",
        "    return 'single_family'\n",
        "  if house_type in ['Link','Parking Space','Locker','Parking','Vacant Land','Land']:\n",
        "    return 'Other'\n",
        "  if 'retail' in house_type.lower():\n",
        "    return 'retail'\n",
        "  if house_type in ['Att/Row/Twnhouse','Row / Townhouse']:\n",
        "    return 'townhouse'\n",
        "  return house_type\n",
        "\n",
        "df['Type'] = df['Type'].apply(process_type)"
      ],
      "execution_count": null,
      "outputs": []
    },
    {
      "cell_type": "code",
      "metadata": {
        "colab": {
          "base_uri": "https://localhost:8080/"
        },
        "id": "77XUwGOsggy7",
        "outputId": "400b8b96-b9af-4517-beed-4f9d4fd817ae"
      },
      "source": [
        "#getting all the unique types of 'Type' column\n",
        "df['Type'].unique()"
      ],
      "execution_count": null,
      "outputs": [
        {
          "output_type": "execute_result",
          "data": {
            "text/plain": [
              "array(['condo', 'Detached', 'townhouse', 'Semi-Detached', 'Apartments',\n",
              "       'Investment', 'Other', 'multiplex', 'single_family', 'retail',\n",
              "       'Industrial', 'Office'], dtype=object)"
            ]
          },
          "metadata": {},
          "execution_count": 7
        }
      ]
    },
    {
      "cell_type": "code",
      "metadata": {
        "colab": {
          "base_uri": "https://localhost:8080/"
        },
        "id": "dhfcLTmnglGk",
        "outputId": "a476b866-abd9-4ce7-c03e-32c8e5470071"
      },
      "source": [
        "# Counting all the unique types\n",
        "df['Type'].value_counts()"
      ],
      "execution_count": null,
      "outputs": [
        {
          "output_type": "execute_result",
          "data": {
            "text/plain": [
              "condo            2594\n",
              "Detached          816\n",
              "Semi-Detached     180\n",
              "Other             100\n",
              "townhouse          89\n",
              "multiplex          48\n",
              "Apartments         47\n",
              "Investment         26\n",
              "Office              6\n",
              "retail              5\n",
              "single_family       5\n",
              "Industrial          1\n",
              "Name: Type, dtype: int64"
            ]
          },
          "metadata": {},
          "execution_count": 8
        }
      ]
    },
    {
      "cell_type": "code",
      "metadata": {
        "id": "YBMMVjeEy8R-",
        "colab": {
          "base_uri": "https://localhost:8080/"
        },
        "outputId": "8690b242-0c35-4c80-b1cf-07467e4c17c0"
      },
      "source": [
        "df['Walk Score'].unique()"
      ],
      "execution_count": null,
      "outputs": [
        {
          "output_type": "execute_result",
          "data": {
            "text/plain": [
              "array([83, 37, 97, 30, 70, 79, 77, 38, 48, 82, 91, 98, 72, 40, 31, 90, 57,\n",
              "       80, 18, 66, 76, 68, 99, 67, 61, 85, 50, 74, 59, 92, 84, 60, 39, 53,\n",
              "       45, 6, 87, 89, 32, 88, 81, 46, 63, 51, 23, 34, 78, 75, 41, 58, 93,\n",
              "       94, 17, 86, 65, 33, 47, 28, 15, 62, 25, 49, 35, 3, 29, 12, 56, 42,\n",
              "       10, 69, 95, 73, 16, 71, 96, 54, 44, 52, 20, 14, 22, 19, 27, 43, 55,\n",
              "       64, 8, 24, 26, 9, 36, 11, '–', 21, 7, 13, 4], dtype=object)"
            ]
          },
          "metadata": {},
          "execution_count": 9
        }
      ]
    },
    {
      "cell_type": "code",
      "metadata": {
        "id": "uLNIVCi2gwAR"
      },
      "source": [
        "#removing the '-' from walk score \n",
        "temp_df = df.copy()\n",
        "temp_df['Walk Score'] = pd.to_numeric(temp_df.where(temp_df['Walk Score'] != '–')['Walk Score'])\n",
        "temp_df = temp_df.groupby('Community')[['Walk Score','Bedrooms']].mean().astype('int')\n",
        "\n",
        "for i in range(0,len(df.index)):\n",
        "  if df.iloc[i]['Walk Score'] == '–':\n",
        "    df.loc[i, 'Walk Score'] =  temp_df.loc[df.iloc[i]['Community']]['Walk Score']\n",
        "\n",
        "df.drop(labels=['Community'],axis=1,inplace=True) #We no longer need the 'Community' column because we already have a 'Walk Score' that we defined from the 'Community'."
      ],
      "execution_count": null,
      "outputs": []
    },
    {
      "cell_type": "code",
      "metadata": {
        "id": "Wx0BEginasYd",
        "colab": {
          "base_uri": "https://localhost:8080/"
        },
        "outputId": "cedd04a8-9843-46ac-dc37-cd88b8e8fbdd"
      },
      "source": [
        "df['Walk Score'] = df['Walk Score'].astype(int)\n",
        "df['Walk Score'].unique()"
      ],
      "execution_count": null,
      "outputs": [
        {
          "output_type": "execute_result",
          "data": {
            "text/plain": [
              "array([83, 37, 97, 30, 70, 79, 77, 38, 48, 82, 91, 98, 72, 40, 31, 90, 57,\n",
              "       80, 18, 66, 76, 68, 99, 67, 61, 85, 50, 74, 59, 92, 84, 60, 39, 53,\n",
              "       45,  6, 87, 89, 32, 88, 81, 46, 63, 51, 23, 34, 78, 75, 41, 58, 93,\n",
              "       94, 17, 86, 65, 33, 47, 28, 15, 62, 25, 49, 35,  3, 29, 12, 56, 42,\n",
              "       10, 69, 95, 73, 16, 71, 96, 54, 44, 52, 20, 14, 22, 19, 27, 43, 55,\n",
              "       64,  8, 24, 26,  9, 36, 11, 21,  7, 13,  4])"
            ]
          },
          "metadata": {},
          "execution_count": 11
        }
      ]
    },
    {
      "cell_type": "code",
      "metadata": {
        "colab": {
          "base_uri": "https://localhost:8080/"
        },
        "id": "3ygdJzrHnokM",
        "outputId": "7e9c0839-68f4-4fc7-ef06-dfd6046c553b"
      },
      "source": [
        "#We're removing it since it has too many distinct values can't provide much information towards the house price\n",
        "print(df['Listed By'].nunique()) \n",
        "\n",
        "#We're removing it since has too many null values\n",
        "(df['Age'] == 'No Data').value_counts()"
      ],
      "execution_count": null,
      "outputs": [
        {
          "output_type": "stream",
          "name": "stdout",
          "text": [
            "543\n"
          ]
        },
        {
          "output_type": "execute_result",
          "data": {
            "text/plain": [
              "True     2454\n",
              "False    1463\n",
              "Name: Age, dtype: int64"
            ]
          },
          "metadata": {},
          "execution_count": 12
        }
      ]
    },
    {
      "cell_type": "code",
      "metadata": {
        "id": "zrgiuGdtn4xK"
      },
      "source": [
        "# dropping ['Listed By','Age'] column\n",
        "df.drop(labels=['Listed By','Age'],axis=1,inplace=True)"
      ],
      "execution_count": null,
      "outputs": []
    },
    {
      "cell_type": "code",
      "metadata": {
        "colab": {
          "base_uri": "https://localhost:8080/"
        },
        "id": "sk_hLO2S-z2m",
        "outputId": "252c7c53-5fd1-4177-893e-7ea32fa1f13e"
      },
      "source": [
        "# unique values in bedroom column\n",
        "df['Bedrooms'].unique()"
      ],
      "execution_count": null,
      "outputs": [
        {
          "output_type": "execute_result",
          "data": {
            "text/plain": [
              "array([3, 2, 1, 4, 5, 0, 7, 9, 6, 8])"
            ]
          },
          "metadata": {},
          "execution_count": 14
        }
      ]
    },
    {
      "cell_type": "code",
      "metadata": {
        "colab": {
          "base_uri": "https://localhost:8080/"
        },
        "id": "Cda2XXoX_B9O",
        "outputId": "4ec8c918-bba3-47ba-a319-0b425c598aba"
      },
      "source": [
        "# Converting the bathroom column into integer type\n",
        "df['Bathrooms'] = df['Bathrooms'].astype(int)\n",
        "\n",
        "# unique values in bathroom column\n",
        "df['Bathrooms'].unique()"
      ],
      "execution_count": null,
      "outputs": [
        {
          "output_type": "execute_result",
          "data": {
            "text/plain": [
              "array([ 3,  1,  2,  6,  4,  5,  9,  0,  7, 10,  8, 14, 12, 16])"
            ]
          },
          "metadata": {},
          "execution_count": 15
        }
      ]
    },
    {
      "cell_type": "code",
      "metadata": {
        "colab": {
          "base_uri": "https://localhost:8080/"
        },
        "id": "QCjLKsCPBPKM",
        "outputId": "8b2ab378-9cff-4ed6-bb71-d96beaa984fc"
      },
      "source": [
        "# unique values in Kitchens column\n",
        "df['Kitchens'].unique()"
      ],
      "execution_count": null,
      "outputs": [
        {
          "output_type": "execute_result",
          "data": {
            "text/plain": [
              "array([1, 2, 0, 3, 5, 4, 6, 9])"
            ]
          },
          "metadata": {},
          "execution_count": 16
        }
      ]
    },
    {
      "cell_type": "code",
      "metadata": {
        "id": "D_onPFNCBWLe",
        "colab": {
          "base_uri": "https://localhost:8080/"
        },
        "outputId": "d92dd7a0-e748-4ef4-df40-94cf96a3ee9d"
      },
      "source": [
        "# unique values in Rooms column\n",
        "df['Rooms'].unique()"
      ],
      "execution_count": null,
      "outputs": [
        {
          "output_type": "execute_result",
          "data": {
            "text/plain": [
              "array([ 8,  6,  5, 10,  4,  9,  7, 11,  3,  0, 14, 12, 13,  2,  1, 18, 15,\n",
              "       16, 19, 20, 48, 24, 23, 21, 30, 33, 17, 25])"
            ]
          },
          "metadata": {},
          "execution_count": 17
        }
      ]
    },
    {
      "cell_type": "code",
      "metadata": {
        "id": "pZI0Z6tJheTl"
      },
      "source": [
        "# Drop properties with zeros in all four parameters (Bedrooms, Bathrooms, Kitchens, and Rooms).\n",
        "df.drop(df[(df['Bedrooms'] == 0) & (df['Bathrooms'] == 0) & (df['Kitchens'] == 0) & (df['Rooms'] == 0)].index,inplace=True) "
      ],
      "execution_count": null,
      "outputs": []
    },
    {
      "cell_type": "code",
      "metadata": {
        "id": "JC6U8GCzBh7O",
        "colab": {
          "base_uri": "https://localhost:8080/"
        },
        "outputId": "636cbc87-f345-47c4-a635-f6ddd70dcb12"
      },
      "source": [
        "#Because all of the values are the same, the area column is being removed.\n",
        "print(df['Area'].unique()) \n",
        "df.drop(labels=['Area'],axis=1,inplace=True)"
      ],
      "execution_count": null,
      "outputs": [
        {
          "output_type": "stream",
          "name": "stdout",
          "text": [
            "['Toronto' nan]\n"
          ]
        }
      ]
    },
    {
      "cell_type": "code",
      "metadata": {
        "id": "C3nkLj_zCAi5",
        "colab": {
          "base_uri": "https://localhost:8080/"
        },
        "outputId": "a08795e6-4ddf-4099-ac88-992262585315"
      },
      "source": [
        "# unique values in Den/Family Rooms column\n",
        "df['Den/Family Room'].unique() "
      ],
      "execution_count": null,
      "outputs": [
        {
          "output_type": "execute_result",
          "data": {
            "text/plain": [
              "array(['N', 'Y', 0], dtype=object)"
            ]
          },
          "metadata": {},
          "execution_count": 20
        }
      ]
    },
    {
      "cell_type": "code",
      "metadata": {
        "id": "j045w7_9jCFg",
        "colab": {
          "base_uri": "https://localhost:8080/"
        },
        "outputId": "e9388736-82a4-4439-aa98-8c4159ea6f23"
      },
      "source": [
        "# For all family rooms, change 0 to N.\n",
        "def process_family_room(family_room):\n",
        "  if family_room == 0:\n",
        "    return 'N'\n",
        "  else:\n",
        "    return family_room\n",
        "\n",
        "df['Den/Family Room'] = df['Den/Family Room'].apply(process_family_room)\n",
        "df['Den/Family Room'].unique()"
      ],
      "execution_count": null,
      "outputs": [
        {
          "output_type": "execute_result",
          "data": {
            "text/plain": [
              "array(['N', 'Y'], dtype=object)"
            ]
          },
          "metadata": {},
          "execution_count": 21
        }
      ]
    },
    {
      "cell_type": "code",
      "metadata": {
        "colab": {
          "base_uri": "https://localhost:8080/"
        },
        "id": "AN4NIyIibbgT",
        "outputId": "9e33fe6b-e01d-448c-b847-7372a9150cf1"
      },
      "source": [
        "# unique values in Patio Terrace column\n",
        "df['Patio Terrace'].unique()"
      ],
      "execution_count": null,
      "outputs": [
        {
          "output_type": "execute_result",
          "data": {
            "text/plain": [
              "array(['Terr', 'Open', 'NO', 'None', 'Jlte', 'Encl', 4], dtype=object)"
            ]
          },
          "metadata": {},
          "execution_count": 22
        }
      ]
    },
    {
      "cell_type": "code",
      "metadata": {
        "id": "oT-J8sdDC9zq",
        "colab": {
          "base_uri": "https://localhost:8080/"
        },
        "outputId": "f2413ba1-4e2d-4a52-e046-5c775c162b62"
      },
      "source": [
        "# Change followingg values..\n",
        "# 'NO', 'None', 'Jlte', 'Encl', '4' --> 'No'\n",
        "# 'Terr', 'Open' --> 'Yes'\n",
        "def process_patio(terrace):\n",
        "  if terrace in ['NO', 'None', 'Jlte', 'Encl', 4]:\n",
        "    return 'No'\n",
        "  if terrace in ['Open', 'Terr']:\n",
        "    return 'Yes'\n",
        "  return terrace\n",
        "\n",
        "df['Patio Terrace'] = df['Patio Terrace'].apply(process_patio)\n",
        "df['Patio Terrace'].unique()"
      ],
      "execution_count": null,
      "outputs": [
        {
          "output_type": "execute_result",
          "data": {
            "text/plain": [
              "array(['Yes', 'No'], dtype=object)"
            ]
          },
          "metadata": {},
          "execution_count": 23
        }
      ]
    },
    {
      "cell_type": "code",
      "metadata": {
        "id": "jNTp6g7yEuf0",
        "colab": {
          "base_uri": "https://localhost:8080/"
        },
        "outputId": "18c5d224-ff87-4258-a979-2a4111225c10"
      },
      "source": [
        "# unique values in 'Ensuite Laundry' column\n",
        "df['Ensuite Laundry'].unique()"
      ],
      "execution_count": null,
      "outputs": [
        {
          "output_type": "execute_result",
          "data": {
            "text/plain": [
              "array(['Y', 'N'], dtype=object)"
            ]
          },
          "metadata": {},
          "execution_count": 24
        }
      ]
    },
    {
      "cell_type": "code",
      "metadata": {
        "id": "l3da1uKuE1MP",
        "colab": {
          "base_uri": "https://localhost:8080/"
        },
        "outputId": "5ef838a6-a9bd-403a-ba37-17b6d55646ac"
      },
      "source": [
        "# unique values in 'Air Conditioning' column\n",
        "df['Air Conditioning'].unique()"
      ],
      "execution_count": null,
      "outputs": [
        {
          "output_type": "execute_result",
          "data": {
            "text/plain": [
              "array(['Central Air', 'None', 'Window Unit', 'Wall Unit', 'Other',\n",
              "       'def no data', 'Central Air Conditioning', 'Part', 'Y', 'N'],\n",
              "      dtype=object)"
            ]
          },
          "metadata": {},
          "execution_count": 25
        }
      ]
    },
    {
      "cell_type": "code",
      "metadata": {
        "id": "HOTRnEJtlZGr",
        "colab": {
          "base_uri": "https://localhost:8080/"
        },
        "outputId": "d2d22e26-53df-4fef-db97-3c1e3f60e18d"
      },
      "source": [
        "# ['Central Air','Window Unit', 'Wall Unit', 'Y', 'Central Air Conditioning', 'Part'] is replaced by 'Y', remaining everything with no\n",
        "def process_conditioning(air_conditioning):\n",
        "  if air_conditioning in ['Central Air','Window Unit', 'Wall Unit', 'Y', 'Central Air Conditioning', 'Part']:\n",
        "    return 'Y'\n",
        "  else:\n",
        "    return 'N' \n",
        "\n",
        "df['Air Conditioning'] = df['Air Conditioning'].apply(process_conditioning)\n",
        "df['Air Conditioning'].unique()"
      ],
      "execution_count": null,
      "outputs": [
        {
          "output_type": "execute_result",
          "data": {
            "text/plain": [
              "array(['Y', 'N'], dtype=object)"
            ]
          },
          "metadata": {},
          "execution_count": 26
        }
      ]
    },
    {
      "cell_type": "code",
      "metadata": {
        "id": "6Z0CGZ_fEwoK",
        "colab": {
          "base_uri": "https://localhost:8080/"
        },
        "outputId": "20853058-3983-41ed-ca2f-c92d5277dd11"
      },
      "source": [
        "# unique values in 'Fireplace' column\n",
        "df['Fireplace'].unique() "
      ],
      "execution_count": null,
      "outputs": [
        {
          "output_type": "execute_result",
          "data": {
            "text/plain": [
              "array(['N', 'Y', False], dtype=object)"
            ]
          },
          "metadata": {},
          "execution_count": 27
        }
      ]
    },
    {
      "cell_type": "code",
      "metadata": {
        "id": "jWga7_I1lHrr",
        "colab": {
          "base_uri": "https://localhost:8080/"
        },
        "outputId": "acd1cdc8-80b3-41a6-b0bb-0e19c1da3790"
      },
      "source": [
        "#Change 'False' to 'N'\n",
        "def process_fireplace(s):\n",
        "  if s == 'Y':\n",
        "    return 'Y'\n",
        "  else:\n",
        "    return 'N' \n",
        "\n",
        "df['Fireplace'] = df['Fireplace'].apply(process_fireplace)\n",
        "df['Fireplace'].unique()"
      ],
      "execution_count": null,
      "outputs": [
        {
          "output_type": "execute_result",
          "data": {
            "text/plain": [
              "array(['N', 'Y'], dtype=object)"
            ]
          },
          "metadata": {},
          "execution_count": 28
        }
      ]
    },
    {
      "cell_type": "code",
      "metadata": {
        "id": "_tsPpBytGJlB",
        "colab": {
          "base_uri": "https://localhost:8080/"
        },
        "outputId": "5edb8a92-cf1a-4a99-e79a-14193b1e2a0e"
      },
      "source": [
        "# unique values in 'Stories' column\n",
        "df['Stories'].unique()"
      ],
      "execution_count": null,
      "outputs": [
        {
          "output_type": "execute_result",
          "data": {
            "text/plain": [
              "array([2, 15, 19, 1, 0, 20, 9, 10, 14, 16, 18, 6, 24, 4, 52, 8, 17, 11, 7,\n",
              "       34, 3, 37, 27, 13, 12, 5, 28, 21, 44, 42, 26, 30, 32, 74, 25, 40,\n",
              "       23, 36, 22, 29, 38, 50, 31, 39, 46, 'Ph', 64, 35, '0-1', 45, 'Lph',\n",
              "       33, '1&2', 51, 47, 'P1', 'A', 54, 48, 65, 59, 41, 53, 56, 49, 'M',\n",
              "       79, 58, 69, 60, 57, 'L15', 'Low', '3&4', 43, '1st', 'Th'],\n",
              "      dtype=object)"
            ]
          },
          "metadata": {},
          "execution_count": 29
        }
      ]
    },
    {
      "cell_type": "code",
      "metadata": {
        "id": "O0sn3PbmmEBp",
        "colab": {
          "base_uri": "https://localhost:8080/"
        },
        "outputId": "a5d53326-cf58-437c-82fe-66937ed12f55"
      },
      "source": [
        "# replacing values with below list\n",
        "zero = ['Ph','Lph','Th']\n",
        "one = ['P1','0-1','1&2','A','Low','1st','L15','M']\n",
        "three = ['3&4']\n",
        "\n",
        "def process_stories(stroy):\n",
        "  if stroy in zero:\n",
        "    return 0\n",
        "  elif stroy in one:\n",
        "    return 1\n",
        "  elif stroy in three:\n",
        "    return 3\n",
        "  else:\n",
        "    return stroy\n",
        "\n",
        "df['Stories'] = df['Stories'].apply(process_stories)\n",
        "df['Stories'].unique() "
      ],
      "execution_count": null,
      "outputs": [
        {
          "output_type": "execute_result",
          "data": {
            "text/plain": [
              "array([ 2, 15, 19,  1,  0, 20,  9, 10, 14, 16, 18,  6, 24,  4, 52,  8, 17,\n",
              "       11,  7, 34,  3, 37, 27, 13, 12,  5, 28, 21, 44, 42, 26, 30, 32, 74,\n",
              "       25, 40, 23, 36, 22, 29, 38, 50, 31, 39, 46, 64, 35, 45, 33, 51, 47,\n",
              "       54, 48, 65, 59, 41, 53, 56, 49, 79, 58, 69, 60, 57, 43])"
            ]
          },
          "metadata": {},
          "execution_count": 30
        }
      ]
    },
    {
      "cell_type": "code",
      "metadata": {
        "id": "4SBKDk6tGQqE",
        "colab": {
          "base_uri": "https://localhost:8080/"
        },
        "outputId": "305ae73b-1fbe-4b4a-8d4c-2def4b43af74"
      },
      "source": [
        "# unique values in 'Parking Total' column\n",
        "df['Parking Total'].unique() "
      ],
      "execution_count": null,
      "outputs": [
        {
          "output_type": "execute_result",
          "data": {
            "text/plain": [
              "array([  1. ,   0. ,   2. ,   4. ,   3. ,   6. ,   5. ,   9. ,  12. ,\n",
              "         8. ,   7. ,  10. ,   1.5,   5.5, 106. ,  23. ,  14. ,  33. ,\n",
              "        16. ,  13. ,  18. ,   3.5,   2.5,  22. ,  11. ,  24. ,  15. ,\n",
              "        17. ,  25. ,  20. ])"
            ]
          },
          "metadata": {},
          "execution_count": 31
        }
      ]
    },
    {
      "cell_type": "code",
      "metadata": {
        "id": "aJikD-1hHuj2"
      },
      "source": [
        "# Converting values into integer from the float\n",
        "df['Parking Total'] = df['Parking Total'].astype(int)"
      ],
      "execution_count": null,
      "outputs": []
    },
    {
      "cell_type": "code",
      "metadata": {
        "colab": {
          "base_uri": "https://localhost:8080/"
        },
        "id": "1VC0KIdYdDvy",
        "outputId": "2ec60f7b-5d49-4771-9dc6-31237168fe29"
      },
      "source": [
        "# number of rows having 'No Data' \n",
        "(df['Taxes'] == 'No Data').value_counts()"
      ],
      "execution_count": null,
      "outputs": [
        {
          "output_type": "execute_result",
          "data": {
            "text/plain": [
              "False    3772\n",
              "True       20\n",
              "Name: Taxes, dtype: int64"
            ]
          },
          "metadata": {},
          "execution_count": 33
        }
      ]
    },
    {
      "cell_type": "code",
      "metadata": {
        "id": "2A3FZIEZmX-K",
        "colab": {
          "base_uri": "https://localhost:8080/",
          "height": 300
        },
        "outputId": "2a4fb674-0cb3-4173-9e90-6aa8be9e50a9"
      },
      "source": [
        "# no data = 0 for the rows having 'no data' \n",
        "def process_taxes(taxes):\n",
        "  if taxes == 'No Data':\n",
        "    return 0\n",
        "  else:\n",
        "    return taxes\n",
        "\n",
        "df['Taxes'] = df['Taxes'].apply(process_taxes)\n",
        "df['Taxes'] = df['Taxes'].astype(float)\n",
        "df[['Taxes']].describe()"
      ],
      "execution_count": null,
      "outputs": [
        {
          "output_type": "execute_result",
          "data": {
            "text/html": [
              "<div>\n",
              "<style scoped>\n",
              "    .dataframe tbody tr th:only-of-type {\n",
              "        vertical-align: middle;\n",
              "    }\n",
              "\n",
              "    .dataframe tbody tr th {\n",
              "        vertical-align: top;\n",
              "    }\n",
              "\n",
              "    .dataframe thead th {\n",
              "        text-align: right;\n",
              "    }\n",
              "</style>\n",
              "<table border=\"1\" class=\"dataframe\">\n",
              "  <thead>\n",
              "    <tr style=\"text-align: right;\">\n",
              "      <th></th>\n",
              "      <th>Taxes</th>\n",
              "    </tr>\n",
              "  </thead>\n",
              "  <tbody>\n",
              "    <tr>\n",
              "      <th>count</th>\n",
              "      <td>3792.000000</td>\n",
              "    </tr>\n",
              "    <tr>\n",
              "      <th>mean</th>\n",
              "      <td>4375.948747</td>\n",
              "    </tr>\n",
              "    <tr>\n",
              "      <th>std</th>\n",
              "      <td>9101.676632</td>\n",
              "    </tr>\n",
              "    <tr>\n",
              "      <th>min</th>\n",
              "      <td>0.000000</td>\n",
              "    </tr>\n",
              "    <tr>\n",
              "      <th>25%</th>\n",
              "      <td>1729.160000</td>\n",
              "    </tr>\n",
              "    <tr>\n",
              "      <th>50%</th>\n",
              "      <td>2841.210000</td>\n",
              "    </tr>\n",
              "    <tr>\n",
              "      <th>75%</th>\n",
              "      <td>4900.000000</td>\n",
              "    </tr>\n",
              "    <tr>\n",
              "      <th>max</th>\n",
              "      <td>333002.000000</td>\n",
              "    </tr>\n",
              "  </tbody>\n",
              "</table>\n",
              "</div>"
            ],
            "text/plain": [
              "               Taxes\n",
              "count    3792.000000\n",
              "mean     4375.948747\n",
              "std      9101.676632\n",
              "min         0.000000\n",
              "25%      1729.160000\n",
              "50%      2841.210000\n",
              "75%      4900.000000\n",
              "max    333002.000000"
            ]
          },
          "metadata": {},
          "execution_count": 34
        }
      ]
    },
    {
      "cell_type": "code",
      "metadata": {
        "id": "u67EpMHDIi36",
        "colab": {
          "base_uri": "https://localhost:8080/"
        },
        "outputId": "1c80a5c0-d14f-4641-bd64-4c255df889a0"
      },
      "source": [
        "# unique values in 'Basement' column\n",
        "df['Basement'].unique()"
      ],
      "execution_count": null,
      "outputs": [
        {
          "output_type": "execute_result",
          "data": {
            "text/plain": [
              "array(['None', 'Crawl Space', 'Walk-Up', 'Sep Entrance', 'Full',\n",
              "       'Finished', 'W/O', 'Unfinished', 'Part Bsmt', 'Part Fin',\n",
              "       'Fin W/O', 'Apartment', 'Other', 'Half', 'Y', 'No', 'Yes',\n",
              "       'Partial (Finished)', 'Full (Unfinished)'], dtype=object)"
            ]
          },
          "metadata": {},
          "execution_count": 35
        }
      ]
    },
    {
      "cell_type": "code",
      "metadata": {
        "id": "bkfMi3L_op2U",
        "colab": {
          "base_uri": "https://localhost:8080/"
        },
        "outputId": "b37295d2-4bc5-4ad1-b26d-2917d7a40066"
      },
      "source": [
        "# changing below list values to 'yes' and others to 'no'\n",
        "yes = ['Crawl Space', 'Walk-Up', 'Sep Entrance', 'Full',\n",
        "       'Finished', 'W/O', 'Unfinished', 'Part Bsmt', 'Part Fin',\n",
        "       'Fin W/O', 'Y','Yes','Partial (Finished)', 'Full (Unfinished)']\n",
        "\n",
        "# processing basement column \n",
        "def process_basement(basement):\n",
        "  if basement in yes:\n",
        "    return 'Y'\n",
        "  else:\n",
        "    return 'N'\n",
        "\n",
        "df['Basement'] = df['Basement'].apply(process_basement)\n",
        "df['Basement'].unique()"
      ],
      "execution_count": null,
      "outputs": [
        {
          "output_type": "execute_result",
          "data": {
            "text/plain": [
              "array(['N', 'Y'], dtype=object)"
            ]
          },
          "metadata": {},
          "execution_count": 36
        }
      ]
    },
    {
      "cell_type": "code",
      "metadata": {
        "id": "ponMz48Iw3MG",
        "colab": {
          "base_uri": "https://localhost:8080/"
        },
        "outputId": "ac8b506a-2374-494d-9640-753f4379f923"
      },
      "source": [
        "# values in the 'size' columns\n",
        "df['Size (sq ft)'].unique()"
      ],
      "execution_count": null,
      "outputs": [
        {
          "output_type": "execute_result",
          "data": {
            "text/plain": [
              "array(['1400-1599', '900-999', '600-699', '1000-1199', '3500-5000',\n",
              "       '500-599', '700-799', nan, '1500-2000', '2000-2500', '1100-1500',\n",
              "       '800-899', '2500-3000', '0-499', '2000-2249', '1600-1799',\n",
              "       '1200-1399', '1800-1999', '3000-3500', '2250-2499', '700-1100',\n",
              "       '5000+', '3250-3499', '3000-3249', '2750-2999', '< 700',\n",
              "       '2500-2749', '4000-4249', '4750-4999', '900-1099', '1100-1299',\n",
              "       '3750-3999', '3500-3749', '4250-4499', '4500-4749'], dtype=object)"
            ]
          },
          "metadata": {},
          "execution_count": 37
        }
      ]
    },
    {
      "cell_type": "code",
      "metadata": {
        "id": "pAdrd-3Wpg8-"
      },
      "source": [
        "# processing size feature \n",
        "def process_size(house_size):\n",
        "  if type(house_size) == str :\n",
        "    if '-' in house_size:\n",
        "      temp = house_size.split('-')\n",
        "      return (int(temp[0])+int(temp[1]))/2\n",
        "    elif '<' in house_size:\n",
        "      temp = house_size.split('<')\n",
        "      return int(temp[1])\n",
        "    elif '+' in house_size:\n",
        "      temp = house_size.split('+')\n",
        "      return int(temp[0])\n",
        "    else:\n",
        "      return int(house_size) \n",
        "\n",
        "df['Size (sq ft)'] = df['Size (sq ft)'].apply(process_size)"
      ],
      "execution_count": null,
      "outputs": []
    },
    {
      "cell_type": "code",
      "metadata": {
        "colab": {
          "base_uri": "https://localhost:8080/"
        },
        "id": "m2wiaXUA3kcA",
        "outputId": "cb968096-04f3-4e3e-c17c-4d14ef3831e4"
      },
      "source": [
        "df.isnull().sum()"
      ],
      "execution_count": null,
      "outputs": [
        {
          "output_type": "execute_result",
          "data": {
            "text/plain": [
              "Type                  0\n",
              "Walk Score            0\n",
              "Size (sq ft)        752\n",
              "Bedrooms              0\n",
              "Bathrooms             0\n",
              "Kitchens              0\n",
              "Rooms                 0\n",
              "Den/Family Room       0\n",
              "Patio Terrace         0\n",
              "Ensuite Laundry       0\n",
              "Air Conditioning      0\n",
              "Fireplace             0\n",
              "Stories               0\n",
              "Parking Total         0\n",
              "Maintenance           0\n",
              "Taxes                 0\n",
              "Basement              0\n",
              "house_price           0\n",
              "dtype: int64"
            ]
          },
          "metadata": {},
          "execution_count": 39
        }
      ]
    },
    {
      "cell_type": "code",
      "metadata": {
        "id": "X_eXHjTMnjYX"
      },
      "source": [
        "# now we fill values for 'size (sq ft)' using linear regression with ['Bedrooms','Bathrooms','Kitchens','Rooms']"
      ],
      "execution_count": null,
      "outputs": []
    },
    {
      "cell_type": "code",
      "metadata": {
        "id": "rko3jN_83173"
      },
      "source": [
        "# making new dataframe using the feaures that we use for the predicting null values of the target ('Size (sq ft)'0)\n",
        "df_new = df[['Bedrooms','Bathrooms','Kitchens','Rooms','Size (sq ft)']]"
      ],
      "execution_count": null,
      "outputs": []
    },
    {
      "cell_type": "code",
      "metadata": {
        "colab": {
          "base_uri": "https://localhost:8080/"
        },
        "id": "RTIoPOWZ32Ba",
        "outputId": "bc0affa3-77cb-4a67-fed7-c0c1c78d6860"
      },
      "source": [
        "# dropping all the null values for now\n",
        "df_new.dropna(inplace=True)"
      ],
      "execution_count": null,
      "outputs": [
        {
          "output_type": "stream",
          "name": "stderr",
          "text": [
            "/usr/local/lib/python3.7/dist-packages/ipykernel_launcher.py:2: SettingWithCopyWarning: \n",
            "A value is trying to be set on a copy of a slice from a DataFrame\n",
            "\n",
            "See the caveats in the documentation: https://pandas.pydata.org/pandas-docs/stable/user_guide/indexing.html#returning-a-view-versus-a-copy\n",
            "  \n"
          ]
        }
      ]
    },
    {
      "cell_type": "code",
      "metadata": {
        "colab": {
          "base_uri": "https://localhost:8080/",
          "height": 206
        },
        "id": "EXjjT0hW32Es",
        "outputId": "dca33522-ac29-4985-9228-df27f5edd0f2"
      },
      "source": [
        "# finding the correlation between features and target\n",
        "df_new.corr()"
      ],
      "execution_count": null,
      "outputs": [
        {
          "output_type": "execute_result",
          "data": {
            "text/html": [
              "<div>\n",
              "<style scoped>\n",
              "    .dataframe tbody tr th:only-of-type {\n",
              "        vertical-align: middle;\n",
              "    }\n",
              "\n",
              "    .dataframe tbody tr th {\n",
              "        vertical-align: top;\n",
              "    }\n",
              "\n",
              "    .dataframe thead th {\n",
              "        text-align: right;\n",
              "    }\n",
              "</style>\n",
              "<table border=\"1\" class=\"dataframe\">\n",
              "  <thead>\n",
              "    <tr style=\"text-align: right;\">\n",
              "      <th></th>\n",
              "      <th>Bedrooms</th>\n",
              "      <th>Bathrooms</th>\n",
              "      <th>Kitchens</th>\n",
              "      <th>Rooms</th>\n",
              "      <th>Size (sq ft)</th>\n",
              "    </tr>\n",
              "  </thead>\n",
              "  <tbody>\n",
              "    <tr>\n",
              "      <th>Bedrooms</th>\n",
              "      <td>1.000000</td>\n",
              "      <td>0.780225</td>\n",
              "      <td>0.327940</td>\n",
              "      <td>0.776677</td>\n",
              "      <td>0.775396</td>\n",
              "    </tr>\n",
              "    <tr>\n",
              "      <th>Bathrooms</th>\n",
              "      <td>0.780225</td>\n",
              "      <td>1.000000</td>\n",
              "      <td>0.259881</td>\n",
              "      <td>0.754701</td>\n",
              "      <td>0.875385</td>\n",
              "    </tr>\n",
              "    <tr>\n",
              "      <th>Kitchens</th>\n",
              "      <td>0.327940</td>\n",
              "      <td>0.259881</td>\n",
              "      <td>1.000000</td>\n",
              "      <td>0.408507</td>\n",
              "      <td>0.299488</td>\n",
              "    </tr>\n",
              "    <tr>\n",
              "      <th>Rooms</th>\n",
              "      <td>0.776677</td>\n",
              "      <td>0.754701</td>\n",
              "      <td>0.408507</td>\n",
              "      <td>1.000000</td>\n",
              "      <td>0.777864</td>\n",
              "    </tr>\n",
              "    <tr>\n",
              "      <th>Size (sq ft)</th>\n",
              "      <td>0.775396</td>\n",
              "      <td>0.875385</td>\n",
              "      <td>0.299488</td>\n",
              "      <td>0.777864</td>\n",
              "      <td>1.000000</td>\n",
              "    </tr>\n",
              "  </tbody>\n",
              "</table>\n",
              "</div>"
            ],
            "text/plain": [
              "              Bedrooms  Bathrooms  Kitchens     Rooms  Size (sq ft)\n",
              "Bedrooms      1.000000   0.780225  0.327940  0.776677      0.775396\n",
              "Bathrooms     0.780225   1.000000  0.259881  0.754701      0.875385\n",
              "Kitchens      0.327940   0.259881  1.000000  0.408507      0.299488\n",
              "Rooms         0.776677   0.754701  0.408507  1.000000      0.777864\n",
              "Size (sq ft)  0.775396   0.875385  0.299488  0.777864      1.000000"
            ]
          },
          "metadata": {},
          "execution_count": 43
        }
      ]
    },
    {
      "cell_type": "code",
      "metadata": {
        "colab": {
          "base_uri": "https://localhost:8080/"
        },
        "id": "wxTOY1wE6mEw",
        "outputId": "ae95ff5f-dacc-4d7a-e273-ba845fe9ffb4"
      },
      "source": [
        "df['Size (sq ft)'].isnull().sum()"
      ],
      "execution_count": null,
      "outputs": [
        {
          "output_type": "execute_result",
          "data": {
            "text/plain": [
              "752"
            ]
          },
          "metadata": {},
          "execution_count": 44
        }
      ]
    },
    {
      "cell_type": "code",
      "metadata": {
        "id": "WkVxRTeL32Gh"
      },
      "source": [
        "# separating features and the target columns\n",
        "X =  df_new[['Bedrooms','Bathrooms','Kitchens','Rooms']]\n",
        "y = df_new['Size (sq ft)']\n",
        "\n",
        "# Splitting the data into train and test data\n",
        "from sklearn.model_selection import train_test_split\n",
        "X_train, X_test, y_train, y_test = train_test_split(X, y, test_size=0.05, random_state=11)"
      ],
      "execution_count": null,
      "outputs": []
    },
    {
      "cell_type": "code",
      "metadata": {
        "colab": {
          "base_uri": "https://localhost:8080/"
        },
        "id": "1gNF097g32KG",
        "outputId": "8bd91218-e66b-421d-82fb-ec7974eba34d"
      },
      "source": [
        "# Importing linear regression model from sklearn's linear model library\n",
        "from sklearn.linear_model import LinearRegression\n",
        "\n",
        "# Taking a linear regression instace\n",
        "regression_model = LinearRegression()\n",
        "\n",
        "# Fitting the data to model\n",
        "regression_model.fit(X_train.values,y_train.values)"
      ],
      "execution_count": null,
      "outputs": [
        {
          "output_type": "execute_result",
          "data": {
            "text/plain": [
              "LinearRegression()"
            ]
          },
          "metadata": {},
          "execution_count": 46
        }
      ]
    },
    {
      "cell_type": "code",
      "metadata": {
        "colab": {
          "base_uri": "https://localhost:8080/"
        },
        "id": "dMqN96Uo32SJ",
        "outputId": "e55d2f4c-79bd-4ba2-f9e3-582fe6b866ac"
      },
      "source": [
        "# constant/intercept for our equation\n",
        "regression_model.intercept_"
      ],
      "execution_count": null,
      "outputs": [
        {
          "output_type": "execute_result",
          "data": {
            "text/plain": [
              "-467.55117708927514"
            ]
          },
          "metadata": {},
          "execution_count": 47
        }
      ]
    },
    {
      "cell_type": "code",
      "metadata": {
        "id": "vzou4FsT32bs"
      },
      "source": [
        "# Predicting model output on the unseen data\n",
        "y_pred = regression_model.predict(X_test.values)"
      ],
      "execution_count": null,
      "outputs": []
    },
    {
      "cell_type": "code",
      "metadata": {
        "colab": {
          "base_uri": "https://localhost:8080/"
        },
        "id": "f6ZJm_xI32es",
        "outputId": "b326eeb0-f700-4057-ed70-2c1539a9e8c5"
      },
      "source": [
        "# importing metrics for evaluation\n",
        "from sklearn import metrics\n",
        "\n",
        "# Finding R2 score, which is also known as coefficient of determination\n",
        "print('Coefficient of determination:', metrics.r2_score(y_test, y_pred))"
      ],
      "execution_count": null,
      "outputs": [
        {
          "output_type": "stream",
          "name": "stdout",
          "text": [
            "Coefficient of determination: 0.803875709641004\n"
          ]
        }
      ]
    },
    {
      "cell_type": "code",
      "metadata": {
        "colab": {
          "base_uri": "https://localhost:8080/"
        },
        "id": "GMsiNc7O32Mu",
        "outputId": "8faf7701-0f86-4909-9caa-5d359461b6ee"
      },
      "source": [
        "# Coefficients for our linear regression equation to see which how much each varible is contributing\n",
        "print(regression_model.coef_)"
      ],
      "execution_count": null,
      "outputs": [
        {
          "output_type": "stream",
          "name": "stdout",
          "text": [
            "[118.10845404 453.75741183  59.71446816  84.83121519]\n"
          ]
        }
      ]
    },
    {
      "cell_type": "code",
      "metadata": {
        "id": "4xQq82q44Whi"
      },
      "source": [
        "# Now we will use the machine learning model to predict the values for the null values present in the size column\n",
        "\n",
        "# First, let's find out index of the null values\n",
        "null_index_list = df[df['Size (sq ft)'].isnull()].index.tolist()\n",
        "\n",
        "for idx in null_index_list:\n",
        "  \n",
        "  # getting the feature values to predict the target\n",
        "  temp = df.loc[idx,['Bedrooms','Bathrooms','Kitchens','Rooms']]\n",
        "  Bedrooms = temp['Bedrooms']\n",
        "  Bathrooms = temp['Bathrooms'] \n",
        "  Kitchens = temp['Kitchens']\n",
        "  Rooms = temp['Rooms']\n",
        "\n",
        "  # Making the prediction and replacing null values with it\n",
        "  df.loc[idx,['Size (sq ft)']] = regression_model.predict([[Bedrooms,Bathrooms,Kitchens,Rooms]])"
      ],
      "execution_count": null,
      "outputs": []
    },
    {
      "cell_type": "code",
      "metadata": {
        "colab": {
          "base_uri": "https://localhost:8080/"
        },
        "id": "vkKZyIA768QN",
        "outputId": "49539e2d-67df-4454-852b-7e2984b66916"
      },
      "source": [
        "df['Size (sq ft)'].isnull().sum()"
      ],
      "execution_count": null,
      "outputs": [
        {
          "output_type": "execute_result",
          "data": {
            "text/plain": [
              "0"
            ]
          },
          "metadata": {},
          "execution_count": 52
        }
      ]
    },
    {
      "cell_type": "code",
      "metadata": {
        "colab": {
          "base_uri": "https://localhost:8080/"
        },
        "id": "SLOmCrOx4WlC",
        "outputId": "77be23ad-76b1-4256-93fe-39855c6159a8"
      },
      "source": [
        "# checking null values if there is any\n",
        "df.isnull().sum()"
      ],
      "execution_count": null,
      "outputs": [
        {
          "output_type": "execute_result",
          "data": {
            "text/plain": [
              "Type                0\n",
              "Walk Score          0\n",
              "Size (sq ft)        0\n",
              "Bedrooms            0\n",
              "Bathrooms           0\n",
              "Kitchens            0\n",
              "Rooms               0\n",
              "Den/Family Room     0\n",
              "Patio Terrace       0\n",
              "Ensuite Laundry     0\n",
              "Air Conditioning    0\n",
              "Fireplace           0\n",
              "Stories             0\n",
              "Parking Total       0\n",
              "Maintenance         0\n",
              "Taxes               0\n",
              "Basement            0\n",
              "house_price         0\n",
              "dtype: int64"
            ]
          },
          "metadata": {},
          "execution_count": 53
        }
      ]
    }
  ]
}